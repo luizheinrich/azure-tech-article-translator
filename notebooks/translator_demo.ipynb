{
 "cells": [
  {
   "cell_type": "markdown",
   "id": "1a20dfd6",
   "metadata": {},
   "source": [
    "# Getting text from website"
   ]
  },
  {
   "cell_type": "code",
   "execution_count": 89,
   "id": "8957565f",
   "metadata": {},
   "outputs": [
    {
     "data": {
      "text/plain": [
       "'Selecting the appropriate Docker base image - DEV Community\\nForem Feed\\nFollow new Subforems to improve your feed\\nDEV Community\\nFollow\\nA space to discuss and keep up software development and manage your software career\\nGamers Forem\\nFollow\\nAn inclusive community for gaming enthusiasts\\nFuture\\nFollow\\nNews and discussion of science and technology such as AI, VR, cryptocurrency, quantum computing, and more.\\nMusic Forem\\nFollow\\nFrom composing and gigging to gear, hot music takes, and everything in between.\\nVibe Coding Forem\\nFollow\\nDiscussing AI software development, and showing off what we\\'re building.\\nOpen Forem\\nFollow\\nA general discussion space for the Forem community. If it doesn\\'t have a home elsewhere, it belongs here\\nPopcorn Movies and TV\\nFollow\\nMovie and TV enthusiasm, criticism and everything in-between.\\nDUMB DEV Community\\nFollow\\nMemes and software development shitposting\\nDesign Community\\nFollow\\nWeb design, graphic design and everything in-between\\nGolf Forem\\nFollow\\nA community of golfers and golfing enthusiasts\\nSecurity Forem\\nFollow\\nYour central hub for all things security. From ethical hacking and CTFs to GRC and career development, for beginners and pros alike\\nMaker Forem\\nFollow\\nA community for makers, hobbyists, and professionals to discuss Arduino, Raspberry Pi, 3D printing, and much more.\\nScale Forem\\nFollow\\nFor engineers building software at scale. We discuss architecture, cloud-native, and SRE—the hard-won lessons you can\\'t just Google\\nForem Core\\nFollow\\nDiscussing the core forem open source software project — features, bugs, performance, self-hosting.\\nCrypto Forem\\nFollow\\nA collaborative community for all things Crypto—from Bitcoin to protocol development and DeFi to NFTs and market analysis.\\nParenting\\nFollow\\nA place for parents to the share the joys, challenges, and wisdom that come from raising kids. We\\'re here for them and for each other.\\nDropdown menu\\nDropdown menu\\nSkip to content\\nNavigation menu\\nSearch\\nPowered by Algolia\\nSearch\\nLog in\\nCreate account\\nDEV Community\\nClose\\nAdd reaction\\nLike\\nUnicorn\\nExploding Head\\nRaised Hands\\nFire\\nJump to Comments\\nSave\\nBoost\\nMore...\\nModerate\\nCopy link\\nCopy link\\nCopied to Clipboard\\nShare to X\\nShare to LinkedIn\\nShare to Facebook\\nShare to Mastodon\\nReport Abuse\\nDaniel Kraszewski\\nfor\\nu11d\\nPosted on\\nOct 14\\n• Originally published at\\nu11d.com\\nSelecting the appropriate Docker base image\\n# docker\\n# devops\\n# security\\nThis is the second article related to Docker best practices. In this\\narticle I will explain how exactly you can choose the best base image.\\nChoose base images wisely\\nWhen learning Docker, we very quickly come across descriptions of how images are built. A set of layers that, stacked one on top of the other, form the final file system of a running container. Seemingly clear, but what do they give us in practice?\\nFirst of all, the fact that we can (although we don\\'t have to) use another image as the base of our image, e.g. one available on public registries such as\\nDocker Hub . It can be Ubuntu, CentOS, a Python interpreter or Bash. What matters is what libraries and tools we need to port our project to the Docker environment.\\nWe configure the base image (that\\'s how we call the image that our implementation will be based on) using one of the most commonly used instructions in the Dockerfile - the\\nFROM\\ninstruction. Assuming that this time we are Dockerizing an application written in Python, an example of its use is shown below:\\nFROM\\npython:3.10.6\\nCOPY\\nhelloworld.py .\\nCMD\\n[ \"python\", \"./helloworld.py\" ]\\nEnter fullscreen mode\\nExit fullscreen mode\\nThe first line instructs Docker that we want to use an existing Python image with the\\n3.10.6\\ntag as the base image. The\\n3.10.6\\ntag as described in\\nrepository\\nmeans using Python version 3.10.6. In the second line of the Dockerfile we copy our sample application, and in the third line we decide that it will be executed when the Docker container starts.\\nAt this point, we already know that we don\\'t need to install Python manually. Someone has prepared the Python image for us. Same as the community prepares all kinds of packages used in software development.\\nThe question arises, however, what to look for when selecting a base image?\\nWho is the author?\\nAnyone can publish their images on\\nDocker Hub , which comes with risk of including malicious code in their application. To minimize this risk, it is worth checking who the author is in the\\nBy\\nsection. As an added convenience, you can find trusted images labeled with\\nDocker Official Image\\nand\\nVerified Publisher .\\nArchitecture\\nImages are built to run in specific environments. Code compiled for the processor of a typical desktop computer will not run directly on a MacBook M1/2 or RaspberryPi. Although it is more advanced knowledge, it is worth checking that the appropriate architecture is available in the list of tags.\\nVersion\\nWhen deciding on a version, it\\'s a good idea to choose a tag that narrows down the possible image content as much as possible. Even upgrading with a patch version, may inconsistently cause backward compatibility problems that we do not expect. Therefore, given a choice of\\npython:3 ,\\npython:3.10\\nor\\npython:3.10.6 , a reasonable choice would be the latter.\\nSize\\nThe size of the image translates directly into the amount of data needed to be sent over the network, as well as disk space. If we need to run a script in Bash, it is not worth using all of Ubuntu for this. A good practice is to select images tailored for specific needs, e.g. using smaller and leaner Linux distributions like\\nAlpine . Such images often have\\nalpine\\nin the tags.\\nSecurity\\nTypical Linux distributions contain many libraries and tools that could potentially bring vulnerabilities. An immediate way to minimize the risk is to use smaller distributions, like the aforementioned\\nAlpine . Fewer dependencies mean simpler monitoring and upgradeability.\\nStandard library C\\ntips@u11d:~ $\\nsudo\\ndocker run\\n--rm\\n-it\\nalpine:3.16\\n$\\nwget\\n-O\\ndocker-compose https://github.com/docker/compose/releases/download/v2.7.0/docker-compose-linux-x86_64\\nConnecting to github.com\\n( 140.82.121.3:443 )\\nConnecting to objects.githubusercontent.com\\n( 185.199.111.133:443 )\\nsaving to\\n\\'docker-compose\\'\\ndocker-compose\\n100% | ***************************************** | 11.6M\\n0:00:00 ETA\\n\\'docker-compose\\'\\nsaved\\n$\\nchmod\\n+x docker-compose\\n$\\n./docker-compose\\n/bin/sh: ./docker-compose: not found\\nEnter fullscreen mode\\nExit fullscreen mode\\nOn Unix-like systems, the standard library is treated as part of the operating system. This means that we will not be able to run an application built with\\nglibc\\nin an image based on, for example, the\\nmusl\\nlibrary. An example of this would be trying to run the\\ndocker-compose\\nutility downloaded directly from GitHub in an image based on\\nAlpine .\\nIs there anything else you can do better? Yes, such as building your image completely from scratch using\\nFROM scratch\\nand putting only the application and its direct dependencies in it. It is also worth looking at the\\nDistroless\\ninitiative striving to achieve the same goal.\\nConclusion\\nSelecting a good Docker base image is important for several reasons. First, the base image forms the foundation of Docker image, and it provides the underlying OS and runtime environment that the application will run in. Therefore, choosing a base image that is well-suited to your needs can help ensure that the application runs efficiently.\\nSecond, the base image can impact the size of the final Docker image. For example, choosing a base image that includes a lot of unnecessary libraries or applications may end up with bloated Docker images. This can affect the performance of applications and make it more difficult to distribute and deploy.\\nFinally, the base image can also impact the security of a final Docker image. Using a base image that is known to have vulnerabilities results in a fact that Docker image may be more susceptible to attack. Therefore, it\\'s important to choose a base image that is well-maintained and regularly updated with security patches.\\nIf you want to build performant Docker images check out the next article in this series:\\nUnderstanding Docker multi-stage builds\\nTop comments\\n(0)\\nSubscribe\\nPersonal\\nTrusted User\\nCreate template\\nTemplates let you quickly answer FAQs or store snippets for re-use.\\nSubmit\\nPreview\\nDismiss\\nCode of Conduct\\n•\\nReport abuse\\nAre you sure you want to hide this comment? It will become hidden in your post, but will still be visible via the comment\\'s\\npermalink .\\nHide child comments as well\\nConfirm\\nFor further actions, you may consider blocking this person and/or\\nreporting abuse\\nu11d\\nFollow\\nMore from\\nu11d\\nSpeed up Docker image builds with cache management\\n# docker\\n# devops\\n# security\\n# u11d\\nExposing Private Load Balancers with CloudFront VPC Origins\\n# aws\\n# terraform\\n# devops\\n# medusajs\\nTerraform as a One-Shot Init Container in Docker Compose and CI: Ending \"It Worked On My Machine\"\\n# docker\\n# terraform\\n# devops\\n# testing\\n💎 DEV Diamond Sponsors\\nThank you to our Diamond Sponsors for supporting the DEV Community\\nGoogle AI is the official AI Model and Platform Partner of DEV\\nNeon is the official database partner of DEV\\nAlgolia is the official search partner of DEV\\nDEV Community\\n— A space to discuss and keep up software development and manage your software career\\nHome\\nWelcome Thread\\nTags\\nAbout\\nContact\\nCode of Conduct\\nPrivacy Policy\\nTerms of Use\\nBuilt on\\nForem\\n— the\\nopen source\\nsoftware that powers\\nDEV\\nand other inclusive communities.\\nMade with love and\\nRuby on Rails . DEV Community\\n©\\n2016 - 2025.\\nWe\\'re a place where coders share, stay up-to-date and grow their careers.\\nLog in\\nCreate account'"
      ]
     },
     "execution_count": 89,
     "metadata": {},
     "output_type": "execute_result"
    }
   ],
   "source": [
    "import requests\n",
    "from bs4 import BeautifulSoup\n",
    "\n",
    "def url_text_extractor(url):\n",
    "    \"\"\"Extract text from online article.\"\"\"\n",
    "    response = requests.get(url)\n",
    "\n",
    "    if response.status_code == 200:\n",
    "        soup = BeautifulSoup(response.text, \"html.parser\")\n",
    "\n",
    "        for script_or_style in soup(['script', 'style']):\n",
    "            script_or_style.decompose()\n",
    "        \n",
    "        textSep = soup.get_text(separator= ' ')\n",
    "\n",
    "        # Text cleaner\n",
    "        textLines = (line.strip() for line in textSep.splitlines())\n",
    "        textParts = (phrase.strip() for line in textLines for phrase in line.split(\"  \"))\n",
    "        cleanText = '\\n'.join(part for part in textParts if part)\n",
    "\n",
    "        return cleanText\n",
    "\n",
    "    else:\n",
    "        print(f\"Failed to fetch the URL. Status code: {response.status_code}\")\n",
    "        return None\n",
    "    \n",
    "    text = soup.get_text()\n",
    "    return text\n",
    "\n",
    "\n",
    "url_text_extractor('https://dev.to/u11d/selecting-the-appropriate-docker-base-image-2126')\n",
    "\n"
   ]
  },
  {
   "cell_type": "markdown",
   "id": "fe01c802",
   "metadata": {},
   "source": [
    "# Azure client"
   ]
  },
  {
   "cell_type": "code",
   "execution_count": 133,
   "id": "e7d9cabf",
   "metadata": {},
   "outputs": [
    {
     "name": "stdout",
     "output_type": "stream",
     "text": [
      "✅ Azure Chat client initialized successfully.\n"
     ]
    }
   ],
   "source": [
    "from langchain_openai.chat_models.azure import AzureChatOpenAI\n",
    "\n",
    "from pathlib import Path\n",
    "from dotenv import load_dotenv\n",
    "import os\n",
    "\n",
    "\n",
    "#env_path = Path.cwd().parents[0] / \".env\"\n",
    "load_dotenv()\n",
    "\n",
    "api_key = os.getenv(\"AZURE_API_KEY\")\n",
    "endpoint = os.getenv(\"AZURE_ENDPOINT\")\n",
    "\n",
    "\n",
    "client = AzureChatOpenAI(\n",
    "    azure_endpoint = endpoint,\n",
    "    api_key = api_key,\n",
    "    api_version = \"2025-01-01-preview\",\n",
    "    deployment_name = \"gpt-4o-mini\",\n",
    "    max_retries = 0\n",
    ")\n",
    "\n",
    "print(\"✅ Azure Chat client initialized successfully.\")"
   ]
  },
  {
   "cell_type": "markdown",
   "id": "78c02288",
   "metadata": {},
   "source": [
    "# Translator"
   ]
  },
  {
   "cell_type": "code",
   "execution_count": 134,
   "id": "f9c605b0",
   "metadata": {},
   "outputs": [],
   "source": [
    "def article_translator(text, lang):\n",
    "    messages = [\n",
    "        (\"system\", \"You act as a text translator\"),\n",
    "        (\"user\", f\"Translate the {text} into language {lang} and response it in Markdown\")\n",
    "    ]\n",
    "\n",
    "    response = client.invoke(messages)\n",
    "    print(response.content)\n",
    "    return response.content\n",
    "\n"
   ]
  },
  {
   "cell_type": "markdown",
   "id": "5b0c29f1",
   "metadata": {},
   "source": [
    "# URL Article Translator"
   ]
  },
  {
   "cell_type": "code",
   "execution_count": 135,
   "id": "7ed69d7f",
   "metadata": {},
   "outputs": [
    {
     "name": "stdout",
     "output_type": "stream",
     "text": [
      "# Selecionando a Imagem Base do Docker Apropriada\n",
      "\n",
      "## DEV Community\n",
      "\n",
      "### Feed do Forem\n",
      "Siga novos Subforems para melhorar seu feed\n",
      "\n",
      "**DEV Community**  \n",
      "Um espaço para discutir e acompanhar o desenvolvimento de software e gerenciar sua carreira em software.\n",
      "\n",
      "**Gamers Forem**  \n",
      "Uma comunidade inclusiva para entusiastas de jogos.\n",
      "\n",
      "**Futuro**  \n",
      "Notícias e discussões sobre ciência e tecnologia, como IA, VR, criptomoeda, computação quântica e muito mais.\n",
      "\n",
      "**Música Forem**  \n",
      "De composição e apresentações até equipamentos, opiniões quentes sobre música e tudo mais.\n",
      "\n",
      "**Vibe Coding Forem**  \n",
      "Discutindo desenvolvimento de software em IA e mostrando o que estamos construindo.\n",
      "\n",
      "**Open Forem**  \n",
      "Um espaço de discussão geral para a comunidade Forem. Se não tiver um lar em outro lugar, pertence aqui.\n",
      "\n",
      "**Filmes e TV Popcorn**  \n",
      "Entusiasmo, crítica e tudo mais sobre filmes e TV.\n",
      "\n",
      "**DUMB DEV Community**  \n",
      "Memes e shitposting sobre desenvolvimento de software.\n",
      "\n",
      "**Comunidade de Design**  \n",
      "Design de websites, design gráfico e tudo mais.\n",
      "\n",
      "**Golf Forem**  \n",
      "Uma comunidade de golfistas e entusiastas do golfe.\n",
      "\n",
      "**Security Forem**  \n",
      "Seu hub central para tudo relacionado à segurança. Desde hacking ético e CTFs até GRC e desenvolvimento de carreira, para iniciantes e profissionais.\n",
      "\n",
      "**Maker Forem**  \n",
      "Uma comunidade para criadores, hobbyistas e profissionais discutirem sobre Arduino, Raspberry Pi, impressão 3D e muito mais.\n",
      "\n",
      "**Scale Forem**  \n",
      "Para engenheiros que constroem software em escala. Discutimos arquitetura, nativo em nuvem e SRE — as lições difíceis que não podem ser apenas pesquisadas no Google.\n",
      "\n",
      "**Forem Core**  \n",
      "Discutindo o projeto de software de código aberto core forem — recursos, bugs, desempenho, auto-hospedagem.\n",
      "\n",
      "**Crypto Forem**  \n",
      "Uma comunidade colaborativa para tudo relacionado a Crypto — de Bitcoin ao desenvolvimento de protocolos, DeFi, NFTs e análise de mercado.\n",
      "\n",
      "**Parentalidade**  \n",
      "Um lugar para os pais compartilharem as alegrias, desafios e sabedoria que vêm de criar filhos. Estamos aqui por eles e uns pelos outros.\n",
      "\n",
      "---\n",
      "\n",
      "### Selecionando a Imagem Base do Docker Apropriada\n",
      "\n",
      "##### Daniel Kraszewski\n",
      "\n",
      "Publicado em 14 de outubro • Originalmente publicado em u11d.com\n",
      "\n",
      "### Escolhendo Imagens Base com Sabedoria\n",
      "\n",
      "Ao aprender Docker, rapidamente encontramos descrições de como as imagens são construídas. Um conjunto de camadas que, empilhadas uma sobre a outra, formam o sistema de arquivos final de um contêiner em execução. Parece claro, mas o que isso nos oferece na prática?\n",
      "\n",
      "Primeiramente, o fato de que podemos (embora não sejamos obrigados) usar outra imagem como base da nossa imagem, por exemplo, uma disponível em registros públicos como o Docker Hub. Pode ser Ubuntu, CentOS, um interpretador Python ou Bash. O que importa é quais bibliotecas e ferramentas precisamos para portar nosso projeto para o ambiente Docker.\n",
      "\n",
      "Configuramos a imagem base (é assim que chamamos a imagem que nossa implementação será baseada) usando uma das instruções mais comumente usadas no Dockerfile - a instrução **FROM**. Supondo que desta vez estamos Dockerizando uma aplicação escrita em Python, um exemplo de seu uso é mostrado abaixo:\n",
      "\n",
      "```dockerfile\n",
      "FROM python:3.10.6\n",
      "COPY helloworld.py .\n",
      "CMD [ \"python\", \"./helloworld.py\" ]\n",
      "```\n",
      "\n",
      "A primeira linha instrui ao Docker que queremos usar uma imagem Python existente com a tag **3.10.6** como a imagem base. A tag **3.10.6** conforme descrito no repositório significa usar a versão Python 3.10.6. Na segunda linha do Dockerfile, copiamos nossa aplicação de exemplo e na terceira linha decidimos que ela será executada quando o contêiner Docker iniciar.\n",
      "\n",
      "Neste ponto, já sabemos que não precisamos instalar o Python manualmente. Alguém preparou a imagem do Python para nós. Assim como a comunidade prepara todo tipo de pacotes usados no desenvolvimento de software.\n",
      "\n",
      "### O que considerar ao selecionar uma imagem base?\n",
      "\n",
      "1. **Quem é o autor?**  \n",
      "Qualquer um pode publicar suas imagens no Docker Hub, o que traz o risco de incluir código malicioso em sua aplicação. Para minimizar esse risco, vale a pena verificar quem é o autor na seção **Por**. Como uma conveniência adicional, você pode encontrar imagens confiáveis marcadas como **Docker Official Image** e **Verified Publisher**.\n",
      "\n",
      "2. **Arquitetura:**  \n",
      "As imagens são construídas para rodar em ambientes específicos. Código compilado para o processador de um computador desktop típico não funcionará diretamente em um MacBook M1/2 ou Raspberry Pi. Embora seja um conhecimento mais avançado, vale a pena verificar se a arquitetura apropriada está disponível na lista de tags.\n",
      "\n",
      "3. **Versão:**  \n",
      "Ao decidir sobre uma versão, é uma boa ideia escolher uma tag que reduza o conteúdo possível da imagem o máximo possível. Mesmo uma atualização com uma versão de patch pode, de forma inconsistentemente, causar problemas de compatibilidade retroativa que não esperamos. Portanto, dada a escolha de **python:3**, **python:3.10** ou **python:3.10.6**, uma escolha razoável seria a última.\n",
      "\n",
      "4. **Tamanho:**  \n",
      "O tamanho da imagem se traduz diretamente na quantidade de dados que precisam ser enviados pela rede, bem como no espaço em disco. Se precisamos executar um script em Bash, não vale a pena usar todo o Ubuntu para isso. Uma boa prática é selecionar imagens adaptadas para necessidades específicas, por exemplo, utilizando distribuições Linux menores e mais enxutas como o **Alpine**. Essas imagens costumam ter **alpine** nas tags.\n",
      "\n",
      "5. **Segurança:**  \n",
      "Distribuições Linux típicas contêm muitas bibliotecas e ferramentas que podem trazer vulnerabilidades. Uma maneira imediata de minimizar o risco é usar distribuições menores, como o mencionado **Alpine**. Menos dependências significam monitoramento e atualizações mais simples.\n",
      "\n",
      "No entanto, há algo mais que você pode fazer de melhor? Sim, como construir sua imagem completamente do zero usando **FROM scratch** e colocando apenas a aplicação e suas dependências diretas nela. Também vale a pena olhar para a iniciativa **Distroless**, que visa alcançar o mesmo objetivo.\n",
      "\n",
      "### Conclusão\n",
      "\n",
      "Selecionar uma boa imagem base do Docker é importante por várias razões. Primeiro, a imagem base forma a fundação da imagem Docker e fornece o sistema operacional subjacente e o ambiente de execução onde a aplicação será executada. Portanto, escolher uma imagem base que se ajuste bem às suas necessidades pode ajudar a garantir que a aplicação funcione de maneira eficiente.\n",
      "\n",
      "Em segundo lugar, a imagem base pode impactar o tamanho da imagem final do Docker. Por exemplo, escolher uma imagem base que inclui muitas bibliotecas ou aplicações desnecessárias pode resultar em imagens Docker inchadas. Isso pode afetar o desempenho das aplicações e dificultar a distribuição e a implantação.\n",
      "\n",
      "Finalmente, a imagem base também pode impactar a segurança da imagem Docker final. Usar uma imagem base que é conhecida por ter vulnerabilidades resulta no fato de que a imagem Docker pode ser mais suscetível a ataques. Portanto, é importante escolher uma imagem base que seja bem mantida e regularmente atualizada com patches de segurança.\n",
      "\n",
      "Se você deseja construir imagens Docker performáticas, confira o próximo artigo desta série:  \n",
      "**Entendendo as Builds Multi-Stage do Docker**\n"
     ]
    }
   ],
   "source": [
    "url = 'https://dev.to/u11d/selecting-the-appropriate-docker-base-image-2126'\n",
    "text = url_text_extractor(url)\n",
    "techArticle = article_translator(text, \"pt-br\")\n"
   ]
  },
  {
   "cell_type": "markdown",
   "id": "208e0dc7",
   "metadata": {},
   "source": [
    "# Export to Markdown"
   ]
  },
  {
   "cell_type": "code",
   "execution_count": 136,
   "id": "bd93bfe1",
   "metadata": {},
   "outputs": [
    {
     "name": "stderr",
     "output_type": "stream",
     "text": [
      "<>:7: SyntaxWarning: invalid escape sequence '\\d'\n",
      "<>:7: SyntaxWarning: invalid escape sequence '\\d'\n",
      "C:\\Users\\luizh\\AppData\\Local\\Temp\\ipykernel_2876\\2786697547.py:7: SyntaxWarning: invalid escape sequence '\\d'\n",
      "  def export_translated_article(url, techArticle, output_dir=\"..\\data\\output\"):\n"
     ]
    }
   ],
   "source": [
    "import os\n",
    "import re\n",
    "from datetime import datetime\n",
    "from bs4 import BeautifulSoup\n",
    "import requests\n",
    "\n",
    "def export_translated_article(url, techArticle, output_dir=\"..\\data\\output\"):\n",
    "    \"\"\"\n",
    "    Exports the translated text of a web article to a Markdown (.md) file.\n",
    "    The filename is automatically generated based on the article title.\n",
    "\n",
    "    Args:\n",
    "        url (str): The original article URL.\n",
    "        techArticle (str): The translated content to be saved.\n",
    "        output_dir (str, optional): Directory to save the Markdown file.\n",
    "                                    Default is 'translations/'.\n",
    "    \"\"\"\n",
    "\n",
    "    # 1. Get the article title from the webpage\n",
    "    try:\n",
    "        response = requests.get(url)\n",
    "        response.raise_for_status()\n",
    "        soup = BeautifulSoup(response.text, \"html.parser\")\n",
    "        title = soup.title.string.strip() if soup.title else \"untitled_article\"\n",
    "    except Exception:\n",
    "        title = \"untitled_article\"\n",
    "\n",
    "    # 2. Sanitize the title for use as filename\n",
    "    safe_title = re.sub(r'[\\\\/*?:\"<>|]', \"\", title)\n",
    "    safe_title = re.sub(r\"\\s+\", \"_\", safe_title).lower()\n",
    "\n",
    "    # 3. Define output directory and file path\n",
    "    os.makedirs(output_dir, exist_ok=True)\n",
    "    timestamp = datetime.now().strftime(\"%Y-%m-%d_%H-%M-%S\")\n",
    "    filename = f\"{safe_title}_{timestamp}.md\"\n",
    "    filepath = os.path.join(output_dir, filename)\n",
    "\n",
    "    # 4. Write to Markdown file\n",
    "    with open(filepath, \"w\", encoding=\"utf-8\") as f:\n",
    "        f.write(f\"# {title}\\n\\n\")\n",
    "        f.write(f\"**Original URL:** {url}\\n\\n\")\n",
    "        f.write(f\"**Translation Date:** {datetime.now().strftime('%Y-%m-%d')}\\n\\n---\\n\\n\")\n",
    "        f.write(techArticle)\n",
    "\n",
    "    print(f\"Translation exported successfully to: {filepath}\")"
   ]
  },
  {
   "cell_type": "code",
   "execution_count": 137,
   "id": "1975bd35",
   "metadata": {},
   "outputs": [
    {
     "name": "stdout",
     "output_type": "stream",
     "text": [
      "Translation exported successfully to: ..\\data\\output\\selecting_the_appropriate_docker_base_image_-_dev_community_2025-10-16_02-24-53.md\n"
     ]
    }
   ],
   "source": [
    "export_translated_article(url, techArticle)"
   ]
  }
 ],
 "metadata": {
  "kernelspec": {
   "display_name": "venv (3.13.5)",
   "language": "python",
   "name": "python3"
  },
  "language_info": {
   "codemirror_mode": {
    "name": "ipython",
    "version": 3
   },
   "file_extension": ".py",
   "mimetype": "text/x-python",
   "name": "python",
   "nbconvert_exporter": "python",
   "pygments_lexer": "ipython3",
   "version": "3.13.5"
  }
 },
 "nbformat": 4,
 "nbformat_minor": 5
}
